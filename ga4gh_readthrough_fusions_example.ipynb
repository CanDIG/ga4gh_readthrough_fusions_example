{
 "cells": [
  {
   "cell_type": "code",
   "execution_count": 1,
   "metadata": {
    "collapsed": false
   },
   "outputs": [
    {
     "name": "stdout",
     "output_type": "stream",
     "text": [
      "8\n",
      "9\n",
      "0\n"
     ]
    }
   ],
   "source": [
    "import ga4gh.client\n",
    "from __future__ import print_function\n",
    "baseURL = \"http://localhost:8080/ga4gh\"\n",
    "client = ga4gh.client.HttpClient(baseURL)\n",
    "\n",
    "datasets = list(client.search_datasets())\n",
    "\n",
    "# search reference sets\n",
    "# WyJHUkNoMzciXQ  GRCh37\n",
    "# WyJodW1hbl9nMWtfdjM3X2RlY295Il0 human_g1k_v37_decoy <---\n",
    "reference_set = list(client.search_reference_sets())[1]\n",
    "\n",
    "# search references [chromosomes] for human_g1k_v37_decoy\n",
    "# WyJHUkNoMzciLCIxIl0     1\n",
    "# WyJHUkNoMzciLCIyIl0     2\n",
    "# WyJHUkNoMzciLCIzIl0     3\n",
    "# WyJodW1hbl9nMWtfdjM3X2RlY295IiwiMSJd    1\n",
    "# WyJodW1hbl9nMWtfdjM3X2RlY295IiwiMiJd    2\n",
    "# WyJodW1hbl9nMWtfdjM3X2RlY295IiwiMyJd    3 <---\n",
    "# WyJodW1hbl9nMWtfdjM3X2RlY295IiwiNCJd    4\n",
    "# WyJodW1hbl9nMWtfdjM3X2RlY295IiwiNSJd    5 <---\n",
    "references = list(client.search_references(reference_set_id=reference_set.id))\n",
    "\n",
    "# WyIxa2ctcDMtc3Vic2V0Il0 1kg-p3-subset\n",
    "# WyJ5dWVmdXNpb25zIl0     yuefusions <---\n",
    "dataset = client.get_dataset(datasets[1].id)\n",
    "\n",
    "# WyJ5dWVmdXNpb25zIiwicmdzIiwicmVhZHRocm91Z2hfdGVzdCJd    readthrough_test <---\n",
    "read_group_sets = list(client.search_read_group_sets(dataset_id=dataset.id))\n",
    "read_group_set = read_group_sets[0]\n",
    "\n",
    "def reads_at_breakpoint(read_group_set, reference, position):\n",
    "    \"\"\"\n",
    "    Returns a list of reads from a read_group_set at a poisition in a reference.\n",
    "\n",
    "    :param :class:`ga4gh.reads_pb2.ReadGroupSet` read_group_set The read_group_set to search for reads.\n",
    "    :param :class:`ga4gh.references_pb2.Reference` reference The reference for for the position.\n",
    "    :param int position The coordinates for the position.\n",
    "\n",
    "    :return: A list of reads.\n",
    "    :rtype: list\n",
    "    \"\"\"\n",
    "    for read_group in read_group_set.read_groups:\n",
    "\n",
    "        sequences = list(client.search_reads(read_group_ids=[read_group.id], \n",
    "                                            start=position, end=position+1,\n",
    "                                            reference_id=reference.id))\n",
    "\n",
    "        return sequences\n",
    "\n",
    "def readthrough_fusion_support(read_group_set, reference, breakpoint_1, breakpoint_2):\n",
    "    \"\"\"\n",
    "    Returns the number of reads that support a given readthrough fusion event for a given read_group_set.\n",
    "\n",
    "    :param :class:`ga4gh.reads_pb2.ReadGroupSet` read_group_set The read_group_set to search for reads.\n",
    "    :param :class:`ga4gh.references_pb2.Reference` reference The reference for the readthrough fusion event.\n",
    "    :param int breakpoint_1 The first breakpoint for the readthrough fusion event.\n",
    "    :param int breakpoint_2 The second breakpoint for the readthrough fusion event.\n",
    "\n",
    "    :return: A set of fragment_names that support the given readthrough fusion event.\n",
    "    :rtype: set\n",
    "    \"\"\"\n",
    "    breakpoint_1_reads = set([read.fragment_name for read in reads_at_breakpoint(read_group_set, reference, breakpoint_1)])\n",
    "    breakpoint_2_reads = set([read.fragment_name for read in reads_at_breakpoint(read_group_set, reference, breakpoint_2)])\n",
    "\n",
    "    intersection_reads = breakpoint_1_reads & breakpoint_2_reads\n",
    "    \n",
    "    return intersection_reads\n",
    "\n",
    "# chr3\t15604865\tchr3\t15531144\tHACL1\tCOLQ\n",
    "# returns: 8 supporting reads\n",
    "print(len(readthrough_fusion_support(read_group_set, references[2], 15604865, 15531144)))\n",
    "\n",
    "# chr5\t40764616\tchr5\t40747121\tPRKAA1\tTTC33\n",
    "# returns: 9 supporting reads\n",
    "print(len(readthrough_fusion_support(read_group_set, references[4], 40764616, 40747121)))\n",
    "\n",
    "# no fusion event\n",
    "# returns: 0 supporting reads\n",
    "print(len(readthrough_fusion_support(read_group_set, references[4], 15604865, 123)))"
   ]
  },
  {
   "cell_type": "code",
   "execution_count": null,
   "metadata": {
    "collapsed": true
   },
   "outputs": [],
   "source": []
  }
 ],
 "metadata": {
  "kernelspec": {
   "display_name": "Python 2",
   "language": "python",
   "name": "python2"
  },
  "language_info": {
   "codemirror_mode": {
    "name": "ipython",
    "version": 2
   },
   "file_extension": ".py",
   "mimetype": "text/x-python",
   "name": "python",
   "nbconvert_exporter": "python",
   "pygments_lexer": "ipython2",
   "version": "2.7.10"
  }
 },
 "nbformat": 4,
 "nbformat_minor": 0
}
